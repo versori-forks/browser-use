{
 "cells": [
  {
   "cell_type": "code",
   "execution_count": 13,
   "metadata": {},
   "outputs": [],
   "source": [
    "import json\n",
    "import pprint"
   ]
  },
  {
   "cell_type": "code",
   "execution_count": 4,
   "metadata": {},
   "outputs": [],
   "source": [
    "with open('data/synthetic_data.json', 'r') as f:\n",
    "    synthetic_data = json.load(f)"
   ]
  },
  {
   "cell_type": "code",
   "execution_count": 14,
   "metadata": {},
   "outputs": [
    {
     "name": "stdout",
     "output_type": "stream",
     "text": [
      "{'agency': {'agencyId': 3084503,\n",
      "            'contactId': 0,\n",
      "            'email': 'cruiseres@trailfinders.com',\n",
      "            'invoiceType': 'To Agency',\n",
      "            'name': 'Trailfinders',\n",
      "            'phone': '02073683840'},\n",
      " 'bookingArea': 'UK',\n",
      " 'bookingCurrency': 'GBP',\n",
      " 'bookingId': 3000350,\n",
      " 'bookingSFID': '801So00000F4jZ3IAJ',\n",
      " 'bookingSource': 'PGCLIENT',\n",
      " 'brochure': 'UKEXI26',\n",
      " 'canAutoCancel': False,\n",
      " 'cancellationDateTime': None,\n",
      " 'cancellationReason': None,\n",
      " 'company': 'HRX',\n",
      " 'createdBy': 'Angela.Kurz@travelhx.com',\n",
      " 'createdDateTime': '2024-11-07T19:00:14.91',\n",
      " 'departureDateTime': '2026-07-23T14:50:00',\n",
      " 'depositDueDate': '2024-11-14T19:00:14.91',\n",
      " 'endDateTime': '2026-07-31T08:30:00',\n",
      " 'finalDueDate': '2026-04-22T00:00:00',\n",
      " 'financialOverview': {'depositAmount': 2778.825,\n",
      "                       'grossBalance': 18525.5,\n",
      "                       'netBalance': 13412.46,\n",
      "                       'netPrice': 13412.46,\n",
      "                       'totalCommission': 4260.87,\n",
      "                       'totalCommissionPaid': 0.0,\n",
      "                       'totalCost': 13815.06,\n",
      "                       'totalPaymentsReceived': 0.0,\n",
      "                       'totalPrice': 18525.5,\n",
      "                       'totalRefunded': 0.0,\n",
      "                       'totalTax': 0.0,\n",
      "                       'totalTaxOnCommission': 852.17},\n",
      " 'groupBooking': None,\n",
      " 'invoices': [{'agencyId': 3084503,\n",
      "               'customerId': None,\n",
      "               'invoiceId': 12007566,\n",
      "               'invoiceNumber': '022000134',\n",
      "               'passengerGroupId': 4000432},\n",
      "              {'agencyId': 3084503,\n",
      "               'customerId': None,\n",
      "               'invoiceId': 12015894,\n",
      "               'invoiceNumber': '022000598',\n",
      "               'passengerGroupId': 4000432}],\n",
      " 'isPlatinum': False,\n",
      " 'market': 'UK',\n",
      " 'marketingSource': 'PHN',\n",
      " 'modifiedBy': 'Mark.Veiermann@travelhx.com',\n",
      " 'notes': 'TA Pete confirmed the booking\\r\\n'\n",
      "          '\\r\\n'\n",
      "          'peter.orchard@trailfinders.com\\r\\n'\n",
      "          '\\r\\n'\n",
      "          '\\r\\n'\n",
      "          '\\r\\n',\n",
      " 'passengerGroups': [{'cancellationDateTime': None,\n",
      "                      'cancellationReason': None,\n",
      "                      'cancellations': [],\n",
      "                      'financialOverview': {'depositAmount': 2778.825,\n",
      "                                            'grossBalance': 18525.5,\n",
      "                                            'netBalance': 13412.46,\n",
      "                                            'netPrice': 13412.46,\n",
      "                                            'totalCommission': 4260.87,\n",
      "                                            'totalCommissionPaid': 0.0,\n",
      "                                            'totalCost': 13815.06,\n",
      "                                            'totalPaymentsReceived': 0.0,\n",
      "                                            'totalPrice': 18525.5,\n",
      "                                            'totalRefunded': 0.0,\n",
      "                                            'totalTax': 0.0,\n",
      "                                            'totalTaxOnCommission': 852.17},\n",
      "                      'flights': [{'bookingClass': 'EC',\n",
      "                                   'bookingStageId': 25007740,\n",
      "                                   'confirmationNumber': 'Galapagos Flight '\n",
      "                                                         'Quito-Baltra',\n",
      "                                   'description': 'From QUITO To Capitania '\n",
      "                                                  'Seymour, Galapagos',\n",
      "                                   'direction': 'OutBound',\n",
      "                                   'endDateTime': '2026-07-23T00:00:00',\n",
      "                                   'fromAirport': 'UIO',\n",
      "                                   'notes': None,\n",
      "                                   'passengerDetails': [{'cost': 267.36,\n",
      "                                                         'isCancelled': False,\n",
      "                                                         'passengerId': 5212177,\n",
      "                                                         'passengerStageId': 45014327,\n",
      "                                                         'seawareStageType': 'None',\n",
      "                                                         'sellingPrice': 0.0},\n",
      "                                                        {'cost': 267.36,\n",
      "                                                         'isCancelled': False,\n",
      "                                                         'passengerId': 5212178,\n",
      "                                                         'passengerStageId': 45014328,\n",
      "                                                         'seawareStageType': 'None',\n",
      "                                                         'sellingPrice': 0.0}],\n",
      "                                   'pnr': 'Galapagos Flight Quito-Baltra',\n",
      "                                   'provider': 'Amadeus',\n",
      "                                   'sellingPrice': 0.0,\n",
      "                                   'startDateTime': '2026-07-23T00:00:00',\n",
      "                                   'status': 'Confirmed',\n",
      "                                   'supplier': 'Flight Galapagos Islands',\n",
      "                                   'toAirport': 'GPS',\n",
      "                                   'type': 'Charter'},\n",
      "                                  {'bookingClass': 'EC',\n",
      "                                   'bookingStageId': 25007745,\n",
      "                                   'confirmationNumber': 'Galapagos Flight '\n",
      "                                                         'Baltra-Guayaquil ',\n",
      "                                   'description': 'From Capitania Seymour, '\n",
      "                                                  'Galapagos To Guayaquil',\n",
      "                                   'direction': 'InBound',\n",
      "                                   'endDateTime': '2026-07-31T00:00:00',\n",
      "                                   'fromAirport': 'GPS',\n",
      "                                   'notes': None,\n",
      "                                   'passengerDetails': [{'cost': 267.36,\n",
      "                                                         'isCancelled': False,\n",
      "                                                         'passengerId': 5212177,\n",
      "                                                         'passengerStageId': 45014337,\n",
      "                                                         'seawareStageType': 'None',\n",
      "                                                         'sellingPrice': 0.0},\n",
      "                                                        {'cost': 267.36,\n",
      "                                                         'isCancelled': False,\n",
      "                                                         'passengerId': 5212178,\n",
      "                                                         'passengerStageId': 45014338,\n",
      "                                                         'seawareStageType': 'None',\n",
      "                                                         'sellingPrice': 0.0}],\n",
      "                                   'pnr': 'Galapagos Flight Baltra-Guayaquil ',\n",
      "                                   'provider': 'Amadeus',\n",
      "                                   'sellingPrice': 0.0,\n",
      "                                   'startDateTime': '2026-07-31T00:00:00',\n",
      "                                   'status': 'Confirmed',\n",
      "                                   'supplier': 'Flight Galapagos Islands',\n",
      "                                   'toAirport': 'GYE',\n",
      "                                   'type': 'Charter'}],\n",
      "                      'isCancelled': False,\n",
      "                      'name': 'UK Boardman',\n",
      "                      'packages': [{'bookingStageId': 25007734,\n",
      "                                    'code': 'SCGAL2627WNEU',\n",
      "                                    'confirmationNumber': None,\n",
      "                                    'description': 'Galápagos Islands '\n",
      "                                                   'Expedition Cruise - Nine '\n",
      "                                                   'of the Best Isles',\n",
      "                                    'endDateTime': '2026-07-31T00:00:00',\n",
      "                                    'mandatory': False,\n",
      "                                    'notes': None,\n",
      "                                    'packageId': 20341,\n",
      "                                    'passengerDetails': [{'cost': 0.0,\n",
      "                                                          'isCancelled': False,\n",
      "                                                          'passengerId': 5212177,\n",
      "                                                          'passengerStageId': 45014315,\n",
      "                                                          'seawareStageType': 'None',\n",
      "                                                          'sellingPrice': 9338.0},\n",
      "                                                         {'cost': 0.0,\n",
      "                                                          'isCancelled': False,\n",
      "                                                          'passengerId': 5212178,\n",
      "                                                          'passengerStageId': 45014316,\n",
      "                                                          'seawareStageType': 'None',\n",
      "                                                          'sellingPrice': 9338.0}],\n",
      "                                    'sellingPrice': 18676.0,\n",
      "                                    'startDateTime': '2026-07-21T00:00:00',\n",
      "                                    'status': 'Confirmed',\n",
      "                                    'supplier': None,\n",
      "                                    'type': 'FULL'}],\n",
      "                      'passengerGroupId': 4000432,\n",
      "                      'passengers': [{'cancellationDate': None,\n",
      "                                      'customerId': 12168582,\n",
      "                                      'dateOfBirth': '1977-01-01T00:00:00',\n",
      "                                      'email': 'test@test.com',\n",
      "                                      'isCancelled': False,\n",
      "                                      'isLead': False,\n",
      "                                      'medicalFormStatus': 'NotSent',\n",
      "                                      'name': 'FREDI KRUGER',\n",
      "                                      'passengerId': 5212177,\n",
      "                                      'seawareGuestType': 'AMBLEVEL1'},\n",
      "                                     {'cancellationDate': None,\n",
      "                                      'customerId': 12168583,\n",
      "                                      'dateOfBirth': '1966-06-16T00:00:00',\n",
      "                                      'email': 'test.fr@icloud.com',\n",
      "                                      'isCancelled': False,\n",
      "                                      'isLead': False,\n",
      "                                      'medicalFormStatus': 'NotSent',\n",
      "                                      'name': 'TEST JEAN PIERRE LAFFONT',\n",
      "                                      'passengerId': 5212178,\n",
      "                                      'seawareGuestType': 'AMBLEVEL1'}],\n",
      "                      'payingCustomerId': None,\n",
      "                      'promotions': [{'code': '1893 Ambassador Discount '\n",
      "                                              'Expedition',\n",
      "                                      'passengerId': None,\n",
      "                                      'passengerStageId': None}],\n",
      "                      'sailings': [{'addOns': [{'bookingStageId': 25007742,\n",
      "                                                'code': 'AIPACK',\n",
      "                                                'confirmationNumber': '2770930',\n",
      "                                                'description': 'Meal Beverage '\n",
      "                                                               'Package '\n",
      "                                                               'Expedition',\n",
      "                                                'endDateTime': '2026-07-31T08:30:00',\n",
      "                                                'mandatory': True,\n",
      "                                                'notes': None,\n",
      "                                                'passengerDetails': [{'cost': 145.8144,\n",
      "                                                                      'isCancelled': False,\n",
      "                                                                      'passengerId': 5212177,\n",
      "                                                                      'passengerStageId': 45014331,\n",
      "                                                                      'seawareStageType': 'None',\n",
      "                                                                      'sellingPrice': 0.0},\n",
      "                                                                     {'cost': 145.8144,\n",
      "                                                                      'isCancelled': False,\n",
      "                                                                      'passengerId': 5212178,\n",
      "                                                                      'passengerStageId': 45014332,\n",
      "                                                                      'seawareStageType': 'None',\n",
      "                                                                      'sellingPrice': 0.0}],\n",
      "                                                'quantity': 1,\n",
      "                                                'seawareReservationId': 2770930,\n",
      "                                                'sellingPrice': 0.0,\n",
      "                                                'startDateTime': '2026-07-23T14:50:00',\n",
      "                                                'status': 'Confirmed',\n",
      "                                                'supplier': None},\n",
      "                                               {'bookingStageId': 25007743,\n",
      "                                                'code': 'AIPACKM',\n",
      "                                                'confirmationNumber': '2770930',\n",
      "                                                'description': 'Meal Package '\n",
      "                                                               'Expedition',\n",
      "                                                'endDateTime': '2026-07-31T08:30:00',\n",
      "                                                'mandatory': True,\n",
      "                                                'notes': None,\n",
      "                                                'passengerDetails': [{'cost': 28.6848,\n",
      "                                                                      'isCancelled': False,\n",
      "                                                                      'passengerId': 5212177,\n",
      "                                                                      'passengerStageId': 45014333,\n",
      "                                                                      'seawareStageType': 'None',\n",
      "                                                                      'sellingPrice': 0.0},\n",
      "                                                                     {'cost': 28.6848,\n",
      "                                                                      'isCancelled': False,\n",
      "                                                                      'passengerId': 5212178,\n",
      "                                                                      'passengerStageId': 45014334,\n",
      "                                                                      'seawareStageType': 'None',\n",
      "                                                                      'sellingPrice': 0.0}],\n",
      "                                                'quantity': 1,\n",
      "                                                'seawareReservationId': 2770930,\n",
      "                                                'sellingPrice': 0.0,\n",
      "                                                'startDateTime': '2026-07-23T14:50:00',\n",
      "                                                'status': 'Confirmed',\n",
      "                                                'supplier': None},\n",
      "                                               {'bookingStageId': 25007744,\n",
      "                                                'code': 'FB',\n",
      "                                                'confirmationNumber': '2770930',\n",
      "                                                'description': 'Full Board',\n",
      "                                                'endDateTime': '2026-07-31T08:30:00',\n",
      "                                                'mandatory': True,\n",
      "                                                'notes': None,\n",
      "                                                'passengerDetails': [{'cost': 317.2509,\n",
      "                                                                      'isCancelled': False,\n",
      "                                                                      'passengerId': 5212177,\n",
      "                                                                      'passengerStageId': 45014335,\n",
      "                                                                      'seawareStageType': 'None',\n",
      "                                                                      'sellingPrice': 0.0},\n",
      "                                                                     {'cost': 317.2509,\n",
      "                                                                      'isCancelled': False,\n",
      "                                                                      'passengerId': 5212178,\n",
      "                                                                      'passengerStageId': 45014336,\n",
      "                                                                      'seawareStageType': 'None',\n",
      "                                                                      'sellingPrice': 0.0}],\n",
      "                                                'quantity': 1,\n",
      "                                                'seawareReservationId': 2770930,\n",
      "                                                'sellingPrice': 0.0,\n",
      "                                                'startDateTime': '2026-07-23T14:50:00',\n",
      "                                                'status': 'Confirmed',\n",
      "                                                'supplier': None}],\n",
      "                                    'bookingStageId': 25007733,\n",
      "                                    'bookingStageVoyageSeawareId': 4000434,\n",
      "                                    'cabins': [{'cabinNumber': '336',\n",
      "                                                'category': 'N2',\n",
      "                                                'index': 1,\n",
      "                                                'mask': 0,\n",
      "                                                'passengerDetails': [{'cost': 5214.258,\n",
      "                                                                      'isCancelled': False,\n",
      "                                                                      'passengerId': 5212177,\n",
      "                                                                      'passengerStageId': 45014313,\n",
      "                                                                      'seawareStageType': 'Outside '\n",
      "                                                                                          'Cabin',\n",
      "                                                                      'sellingPrice': 0.0}]},\n",
      "                                               {'cabinNumber': '336',\n",
      "                                                'category': 'N2',\n",
      "                                                'index': 1,\n",
      "                                                'mask': 0,\n",
      "                                                'passengerDetails': [{'cost': 5214.258,\n",
      "                                                                      'isCancelled': False,\n",
      "                                                                      'passengerId': 5212178,\n",
      "                                                                      'passengerStageId': 45014314,\n",
      "                                                                      'seawareStageType': 'Outside '\n",
      "                                                                                          'Cabin',\n",
      "                                                                      'sellingPrice': 0.0}]}],\n",
      "                                    'closedPromotion': 'UKPROMO',\n",
      "                                    'confirmationNumber': '2770930',\n",
      "                                    'cruiseNights': 8.0,\n",
      "                                    'description': 'From Santiago To Buenos '\n",
      "                                                   'Aires',\n",
      "                                    'destination': 'Buenos Aires',\n",
      "                                    'endDateTime': '2028-04-10T08:30:00',\n",
      "                                    'excursions': [],\n",
      "                                    'fromPort': 'GPS',\n",
      "                                    'isInSeawareRepairQueue': False,\n",
      "                                    'isViaKirkenes': False,\n",
      "                                    'notes': None,\n",
      "                                    'numberOfVehicles': 0,\n",
      "                                    'packageCode': 'FRANT08-280318',\n",
      "                                    'productTypeId': 213,\n",
      "                                    'promotions': [{'code': 'AMBASSADOR05',\n",
      "                                                    'passengerId': 5212177,\n",
      "                                                    'passengerStageId': 45014313},\n",
      "                                                   {'code': 'AMBASSADOR05',\n",
      "                                                    'passengerId': 5212178,\n",
      "                                                    'passengerStageId': 45014314}],\n",
      "                                    'sailCode': 'SC260723_1',\n",
      "                                    'sailId': '18569',\n",
      "                                    'sailingType': None,\n",
      "                                    'seawarePackageId': 456509,\n",
      "                                    'seawareReservationId': 2770930,\n",
      "                                    'sellingPrice': 0.0,\n",
      "                                    'shipCode': 'SC',\n",
      "                                    'shipComments': '',\n",
      "                                    'shipName': 'MS Santa Cruz II',\n",
      "                                    'shipRooms': [],\n",
      "                                    'startDateTime': '2028-03-18T14:50:00',\n",
      "                                    'status': 'Confirmed',\n",
      "                                    'supplier': None,\n",
      "                                    'toPort': 'GPS',\n",
      "                                    'travelType': 'EXPLORER'}],\n",
      "                      'sendRecordsBy': None,\n",
      "                      'ticketsSentByEmail': False,\n",
      "                      'ticketsSentByPost': False}],\n",
      " 'payLater': False,\n",
      " 'payments': [],\n",
      " 'secondaryBookingSource': None,\n",
      " 'startDateTime': '2028-03-18T00:00:00',\n",
      " 'status': 'Confirmed',\n",
      " 'tour': 'FRANT08-280318'}\n"
     ]
    }
   ],
   "source": [
    "pprint.pprint(synthetic_data)"
   ]
  },
  {
   "cell_type": "markdown",
   "metadata": {},
   "source": [
    "### Tour Date Info"
   ]
  },
  {
   "cell_type": "code",
   "execution_count": 42,
   "metadata": {},
   "outputs": [],
   "source": [
    "tour_start_date = synthetic_data['startDateTime']\n",
    "tour_start_year = tour_start_date.split('-')[0]\n",
    "tour_start_month = {\n",
    "    '01': 'January',\n",
    "    '02': 'February', \n",
    "    '03': 'March',\n",
    "    '04': 'April',\n",
    "    '05': 'May',\n",
    "    '06': 'June',\n",
    "    '07': 'July',\n",
    "    '08': 'August',\n",
    "    '09': 'September',\n",
    "    '10': 'October',\n",
    "    '11': 'November',\n",
    "    '12': 'December'\n",
    "}[tour_start_date.split('-')[1]]\n",
    "tour_start_day = tour_start_date.split('-')[2]"
   ]
  },
  {
   "cell_type": "code",
   "execution_count": 43,
   "metadata": {},
   "outputs": [
    {
     "data": {
      "text/plain": [
       "'March'"
      ]
     },
     "execution_count": 43,
     "metadata": {},
     "output_type": "execute_result"
    }
   ],
   "source": [
    "tour_start_month"
   ]
  },
  {
   "cell_type": "markdown",
   "metadata": {},
   "source": [
    "### Getting Passenger Info"
   ]
  },
  {
   "cell_type": "code",
   "execution_count": 17,
   "metadata": {},
   "outputs": [],
   "source": [
    "passenger_details = synthetic_data['passengerGroups']"
   ]
  },
  {
   "cell_type": "code",
   "execution_count": 23,
   "metadata": {},
   "outputs": [],
   "source": [
    "passenger_info = passenger_details[0][\"passengers\"]"
   ]
  },
  {
   "cell_type": "code",
   "execution_count": 24,
   "metadata": {},
   "outputs": [],
   "source": [
    "number_of_passengers = len(passenger_info)"
   ]
  },
  {
   "cell_type": "code",
   "execution_count": 25,
   "metadata": {},
   "outputs": [
    {
     "data": {
      "text/plain": [
       "2"
      ]
     },
     "execution_count": 25,
     "metadata": {},
     "output_type": "execute_result"
    }
   ],
   "source": [
    "number_of_passengers"
   ]
  },
  {
   "cell_type": "code",
   "execution_count": 30,
   "metadata": {},
   "outputs": [],
   "source": [
    "def get_passenger_primary_info(passenger_info):\n",
    "    return {\n",
    "        \"name\": passenger_info[\"name\"],\n",
    "        \"email\": passenger_info.get(\"email\", \"\"),\n",
    "        \"phone\": passenger_info.get(\"phone\", \"\"),\n",
    "        \"address\": passenger_info.get(\"address\", \"\")\n",
    "    }"
   ]
  },
  {
   "cell_type": "code",
   "execution_count": 31,
   "metadata": {},
   "outputs": [],
   "source": [
    "passenger_primary_info = []\n",
    "for passenger in passenger_info:\n",
    "    passenger_primary_info.append(get_passenger_primary_info(passenger))"
   ]
  },
  {
   "cell_type": "code",
   "execution_count": 32,
   "metadata": {},
   "outputs": [
    {
     "data": {
      "text/plain": [
       "[{'name': 'FREDI KRUGER',\n",
       "  'email': 'test@test.com',\n",
       "  'phone': '',\n",
       "  'address': ''},\n",
       " {'name': 'TEST JEAN PIERRE LAFFONT',\n",
       "  'email': 'test.fr@icloud.com',\n",
       "  'phone': '',\n",
       "  'address': ''}]"
      ]
     },
     "execution_count": 32,
     "metadata": {},
     "output_type": "execute_result"
    }
   ],
   "source": [
    "passenger_primary_info"
   ]
  },
  {
   "cell_type": "code",
   "execution_count": 33,
   "metadata": {},
   "outputs": [],
   "source": [
    "### Get Cabin Info"
   ]
  },
  {
   "cell_type": "code",
   "execution_count": 39,
   "metadata": {},
   "outputs": [],
   "source": [
    "def get_cabin_info(cabin):\n",
    "    return {\n",
    "        \"category\": cabin.get(\"category\"),\n",
    "        \"cabin_number\": cabin.get(\"cabinNumber\"),\n",
    "        \"seaware_stage_type\": cabin.get(\"passengerDetails\")[0].get(\"seawareStageType\")\n",
    "    }\n"
   ]
  },
  {
   "cell_type": "code",
   "execution_count": 40,
   "metadata": {},
   "outputs": [
    {
     "data": {
      "text/plain": [
       "[{'category': 'N2',\n",
       "  'cabin_number': '336',\n",
       "  'seaware_stage_type': 'Outside Cabin'},\n",
       " {'category': 'N2',\n",
       "  'cabin_number': '336',\n",
       "  'seaware_stage_type': 'Outside Cabin'}]"
      ]
     },
     "execution_count": 40,
     "metadata": {},
     "output_type": "execute_result"
    }
   ],
   "source": [
    "cabin_info = []\n",
    "for cabin in passenger_details[0][\"sailings\"][0][\"cabins\"]:\n",
    "    cabin_info.append(get_cabin_info(cabin))\n",
    "cabin_info"
   ]
  },
  {
   "cell_type": "code",
   "execution_count": 41,
   "metadata": {},
   "outputs": [],
   "source": [
    "### Construct Prompt"
   ]
  },
  {
   "cell_type": "code",
   "execution_count": null,
   "metadata": {},
   "outputs": [],
   "source": []
  },
  {
   "cell_type": "code",
   "execution_count": 50,
   "metadata": {},
   "outputs": [],
   "source": [
    "prompt = f\"\"\"\n",
    "- Navigate to https://sandbox.reservations.travelhx.com/touch\n",
    "- Login using user name VR_Patrick and password SEAWARE_PASSWORD\n",
    "- Click New Reservation at bottom of screen\n",
    "- Click on element by index with id 15\n",
    "- In the calendar under \"Select the tour you prefer from the list below\", click on the second year dropdown where it says 2025 and click on {tour_start_year} using the select_dropdown_option function\n",
    "- In the dropdown for month, using the select_dropdown_option function, click on the month where it says {tour_start_month}\n",
    "- Click on the tile on the day {tour_start_day} of the month. It should be highlighted in blue once selected\n",
    "- Find the select checkbox and pick it. It should be in the bottom right of the screen (below the cost)\n",
    "- Once selected a green tick should appear\n",
    "- Click continue\n",
    "- Find the row for {cabin_info[0][\"seaware_stage_type\"]}. It has code {cabin_info[0][\"category\"]}. It should have this exact name. The cabins have their own scroll section. Do a ctrl + f find for the term {cabin_info[0][\"seaware_stage_type\"]}\n",
    "- Click on the plus button on this row so that a 1 should appear\n",
    "- Click continue\n",
    "- Click the \"Change\" button next to the number \n",
    "- Search for the cabin {cabin_info[0][\"cabin_number\"]} in the Stateroom box by typing it in and pressing enter\n",
    "- Press Click Select to select the cabin {cabin_info[0][\"cabin_number\"]}\n",
    "\"\"\""
   ]
  },
  {
   "cell_type": "code",
   "execution_count": 49,
   "metadata": {},
   "outputs": [
    {
     "data": {
      "text/plain": [
       "'\\n- Navigate to https://sandbox.reservations.travelhx.com/touch\\n- Login using user name VR_Patrick and password SEAWARE_PASSWORD\\n- Click New Reservation at bottom of screen\\n- Click on Find Tours, so it is minimised\\n- Scroll down if it isn\\'t\\n- In the calendar under \"Select the tour you prefer from the list below\", click on the second year dropdown where it says 2025 and click on 2028 using the select_dropdown_option function\\n- In the dropdown for month, using the select_dropdown_option function, click on the month where it says March\\n- Click on the tile on the day 18T00:00:00 of the month. It should be highlighted in blue once selected\\n- Find the select checkbox and pick it. It should be in the bottom right of the screen (below the cost)\\n- Once selected a green tick should appear\\n- Click continue\\n- Find the row for N2. It has code 336. It should have this exact name. The cabins have their own scroll section. Do a ctrl + f find for the term N2\\n- Click on the plus button on this row so that a 1 should appear\\n- Click continue\\n- Click the \"Change\" button next to the number \\n- Search for the cabin 336 in the Stateroom box by typing it in and pressing enter\\n- Press Click Select to select the cabin 336\\n'"
      ]
     },
     "execution_count": 49,
     "metadata": {},
     "output_type": "execute_result"
    }
   ],
   "source": [
    "prompt"
   ]
  },
  {
   "cell_type": "code",
   "execution_count": null,
   "metadata": {},
   "outputs": [],
   "source": []
  }
 ],
 "metadata": {
  "kernelspec": {
   "display_name": ".venv",
   "language": "python",
   "name": "python3"
  },
  "language_info": {
   "codemirror_mode": {
    "name": "ipython",
    "version": 3
   },
   "file_extension": ".py",
   "mimetype": "text/x-python",
   "name": "python",
   "nbconvert_exporter": "python",
   "pygments_lexer": "ipython3",
   "version": "3.12.9"
  }
 },
 "nbformat": 4,
 "nbformat_minor": 2
}
